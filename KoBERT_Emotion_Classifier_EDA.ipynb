{
  "nbformat": 4,
  "nbformat_minor": 0,
  "metadata": {
    "colab": {
      "name": "KoBERT_Emotion_Classifier_EDA.ipynb",
      "private_outputs": true,
      "provenance": [],
      "toc_visible": true,
      "authorship_tag": "ABX9TyPHxOA3oxn93LZyC+8qpSE/",
      "include_colab_link": true
    },
    "kernelspec": {
      "name": "python3",
      "display_name": "Python 3"
    },
    "language_info": {
      "name": "python"
    }
  },
  "cells": [
    {
      "cell_type": "markdown",
      "metadata": {
        "id": "view-in-github",
        "colab_type": "text"
      },
      "source": [
        "<a href=\"https://colab.research.google.com/github/Yuns-u/KoBERT_emotion_Classifier/blob/main/KoBERT_Emotion_Classifier_EDA.ipynb\" target=\"_parent\"><img src=\"https://colab.research.google.com/assets/colab-badge.svg\" alt=\"Open In Colab\"/></a>"
      ]
    },
    {
      "cell_type": "markdown",
      "source": [
        "# KoBERT를 위한 환경 설정"
      ],
      "metadata": {
        "id": "_8-sGt_uNyEC"
      }
    },
    {
      "cell_type": "code",
      "source": [
        "#KoBERT를 사용하기 위한 라이브러리 설정\n",
        "!pip install mxnet\n",
        "!pip install gluonnlp pandas tqdm\n",
        "!pip install sentencepiece\n",
        "!pip install transformers==3.0.2\n",
        "!pip install torch"
      ],
      "metadata": {
        "id": "vwwnM9f0lTPk"
      },
      "execution_count": null,
      "outputs": []
    },
    {
      "cell_type": "code",
      "source": [
        "#깃허브에서 KoBERT 파일 로드\n",
        "!pip install git+https://git@github.com/SKTBrain/KoBERT.git@master"
      ],
      "metadata": {
        "id": "PJoaKCeLlhBM"
      },
      "execution_count": null,
      "outputs": []
    },
    {
      "cell_type": "code",
      "source": [
        "#kobert\n",
        "from kobert.utils import get_tokenizer\n",
        "from kobert.pytorch_kobert import get_pytorch_kobert_model\n",
        "\n",
        "#transformers\n",
        "from transformers import AdamW\n",
        "from transformers.optimization import get_cosine_schedule_with_warmup"
      ],
      "metadata": {
        "id": "edLl3NiAl-Ck"
      },
      "execution_count": null,
      "outputs": []
    },
    {
      "cell_type": "code",
      "source": [
        "import torch\n",
        "from torch import nn\n",
        "import torch.nn.functional as F\n",
        "import torch.optim as optim\n",
        "from torch.utils.data import Dataset, DataLoader\n",
        "import gluonnlp as nlp\n",
        "import numpy as np\n",
        "from tqdm import tqdm, tqdm_notebook"
      ],
      "metadata": {
        "id": "RHV0VvvumIkD"
      },
      "execution_count": null,
      "outputs": []
    },
    {
      "cell_type": "code",
      "source": [
        "#GPU 사용\n",
        "device = torch.device(\"cuda:0\")"
      ],
      "metadata": {
        "id": "Ieju-OEHmCV7"
      },
      "execution_count": null,
      "outputs": []
    },
    {
      "cell_type": "code",
      "source": [
        "#BERT 모델, Vocabulary 불러오기\n",
        "bertmodel, vocab = get_pytorch_kobert_model()"
      ],
      "metadata": {
        "id": "md_Mh0lomOdt"
      },
      "execution_count": null,
      "outputs": []
    },
    {
      "cell_type": "markdown",
      "source": [
        "# AI Hub에서 받아온 데이터 전처리하기\n",
        "\n",
        "- 공포 : 5468 \n",
        "- 놀람 : 5898 \n",
        "- 분노 : 5665\n",
        "- 슬픔 : 5267\n",
        "- 중립 : 4830\n",
        "- 행복 : 6037\n",
        "- 혐오 : 5429\n",
        "\n",
        "총 38594개의 말뭉치이다.\n",
        "\n",
        "위처럼 일곱가지의 감정으로 분류되어 있지만 각 감정의 데이터 수 차이가 있다.\n",
        "또한 감정의 수가 7가지나 되기 때문에 목적에 맞게 긍정(1), 부정(0), 중립(0.5) 정도로 분류하면 1:다 대화에서의 감정을 파악하는 데에 도움이 될 것이라고 생각한다."
      ],
      "metadata": {
        "id": "PU3bIa5SmZaL"
      }
    },
    {
      "cell_type": "code",
      "source": [
        "import pandas as pd"
      ],
      "metadata": {
        "id": "t6HXwjKhQlzQ"
      },
      "execution_count": null,
      "outputs": []
    },
    {
      "cell_type": "code",
      "execution_count": null,
      "metadata": {
        "id": "1aezTTTONRb5"
      },
      "outputs": [],
      "source": [
        "from google.colab import files\n",
        "myfile = files.upload()"
      ]
    },
    {
      "cell_type": "code",
      "source": [
        "#pd.read_csv로 csv파일 불러오기\n",
        "df = pd.read_csv('korean_oneoff_chats.csv')\n",
        "df"
      ],
      "metadata": {
        "id": "zpIvGjwuQCCZ"
      },
      "execution_count": null,
      "outputs": []
    },
    {
      "cell_type": "code",
      "source": [
        "#결측치 확인\n",
        "df.isna().sum()"
      ],
      "metadata": {
        "id": "i6yr3FELnyrR"
      },
      "execution_count": null,
      "outputs": []
    },
    {
      "cell_type": "markdown",
      "source": [
        "## Emotion별 특징 분석하기\n",
        "행복은 긍정이고 혐오는 부정인 것은 직관적으로 알 수 있지만 놀람, 공포 등 긍정인지 부정인지 명확하게 구분하기 어려운 감정말뭉치들이 있는 것으로 보인다.\n",
        "\n",
        "해당 말뭉치가 단발성이라는 점에서 반어법 등의 유무를 살펴볼 수는 없었다. \n",
        "- 긍정: 행복\n",
        "- 중립: 중립\n",
        "- 부정: 혐오\n",
        "\n",
        "공포, 놀람, 분노, 슬픔은 어떻게 나눌 수 있는가?"
      ],
      "metadata": {
        "id": "bQO51M4riM0W"
      }
    },
    {
      "cell_type": "code",
      "source": [
        "df['Emotion'].unique()"
      ],
      "metadata": {
        "id": "zl7eFAvpmgYg"
      },
      "execution_count": null,
      "outputs": []
    },
    {
      "cell_type": "markdown",
      "source": [
        "일단 자의로 감정을 분석하는 것은 오히려 모델의 성능을 해칠 수 있으므로 7가지 감정에 대해 분류를 해보도록 하겠다.\n",
        "\n",
        "- 혐오 : 0\n",
        "- 분노 : 1\n",
        "- 공포 : 2\n",
        "- 중립 : 3\n",
        "- 슬픔 : 4\n",
        "- 놀람 : 5 \n",
        "- 행복 : 6\n"
      ],
      "metadata": {
        "id": "UnQGmxwJpCY3"
      }
    },
    {
      "cell_type": "code",
      "source": [
        "df.loc[(df['Emotion']=='혐오'), 'Emotion'] = 0 #혐오를 0으로 표현\n",
        "df.loc[(df['Emotion']=='분노'), 'Emotion'] = 1 #분노를 1로 표현\n",
        "df.loc[(df['Emotion']=='공포'), 'Emotion'] = 2 #공포를 2로 표현\n",
        "df.loc[(df['Emotion']=='중립'), 'Emotion'] = 3 #중립을 3으로 표현\n",
        "df.loc[(df['Emotion']=='슬픔'), 'Emotion'] = 4 #슬픔을 4로 표현\n",
        "df.loc[(df['Emotion']=='놀람'), 'Emotion'] = 5 #놀람을 5로 표현\n",
        "df.loc[(df['Emotion']=='행복'), 'Emotion'] = 6 #행복을 6으로 표현"
      ],
      "metadata": {
        "id": "vZ5BpAo2qQGe"
      },
      "execution_count": null,
      "outputs": []
    },
    {
      "cell_type": "code",
      "source": [
        "df.sample(10)"
      ],
      "metadata": {
        "id": "YlA418Z9sOI-"
      },
      "execution_count": null,
      "outputs": []
    },
    {
      "cell_type": "code",
      "source": [
        "df.describe()"
      ],
      "metadata": {
        "id": "C7DbLbuF4HiU"
      },
      "execution_count": null,
      "outputs": []
    },
    {
      "cell_type": "code",
      "source": [
        "#각 행의 데이터를 리스트로 묶어주고 하나의 리스트에 넣기\n",
        "data_list = []\n",
        "\n",
        "for q, label in zip(df['Sentence'], df['Emotion'])  :\n",
        "    data = []\n",
        "    data.append(q)\n",
        "    data.append(str(label))\n",
        "\n",
        "    data_list.append(data)"
      ],
      "metadata": {
        "id": "xZIIMi2N8ANo"
      },
      "execution_count": null,
      "outputs": []
    },
    {
      "cell_type": "code",
      "source": [
        "print(data_list[0])"
      ],
      "metadata": {
        "id": "D_3Yq86_8UHt"
      },
      "execution_count": null,
      "outputs": []
    },
    {
      "cell_type": "markdown",
      "source": [
        "# 데이터셋 나누기"
      ],
      "metadata": {
        "id": "wQSU6qPrsbxw"
      }
    },
    {
      "cell_type": "code",
      "source": [
        "from sklearn.model_selection import train_test_split\n",
        "                                                         \n",
        "train_li, test_li = train_test_split(data_list, test_size=0.2, random_state=0)"
      ],
      "metadata": {
        "id": "iLEWuBRAsach"
      },
      "execution_count": null,
      "outputs": []
    },
    {
      "cell_type": "code",
      "source": [
        "print(len(train_li))\n",
        "print(len(test_li))"
      ],
      "metadata": {
        "id": "KJp5f5ACcflM"
      },
      "execution_count": null,
      "outputs": []
    },
    {
      "cell_type": "markdown",
      "source": [
        "# KoBERT 입력 데이터로 데이터셋 만들기"
      ],
      "metadata": {
        "id": "FTASBxLRctIe"
      }
    },
    {
      "cell_type": "code",
      "source": [
        "#BERT 모델에 들어가기 위한 데이터셋을 만들어주는 사용자 클래스 만들기\n",
        "class BERTdata(Dataset):\n",
        "  def __init__(self, dataset, sent_idx, label_idx, bert_tokenizer, max_len, pad, pair):\n",
        "    transform = nlp.data.BERTSentenceTransform(\n",
        "        bert_tokenizer, max_seq_length=max_len, pad=pad, pair=pair)\n",
        "    self.sentences = [transform([i[sent_idx]]) for i in dataset]\n",
        "    self.labels = [np.int32(i[label_idx]) for i in dataset]\n",
        "\n",
        "  def __getitem__(self, i):\n",
        "    return (self.sentences[i] + (self.labels[i], ))\n",
        "\n",
        "  def __len__(self):\n",
        "    return(len(self.labels))"
      ],
      "metadata": {
        "id": "sXrGEmhvc0HX"
      },
      "execution_count": null,
      "outputs": []
    },
    {
      "cell_type": "code",
      "source": [
        "# \bKoBERT의 파라미터 세팅\n",
        "max_len = 64             #텍스트 데이터 최대 길이\n",
        "batch_size = 64\n",
        "warmup_ratio = 0.1\n",
        "num_epochs = 5           #반복학습 수\n",
        "max_grad_norm = 1\n",
        "log_interval = 200\n",
        "learning_rate = 5e-5"
      ],
      "metadata": {
        "id": "wtJ1YdLqibzt"
      },
      "execution_count": null,
      "outputs": []
    },
    {
      "cell_type": "markdown",
      "source": [
        "# 토큰화"
      ],
      "metadata": {
        "id": "5pMElnTSij2m"
      }
    },
    {
      "cell_type": "code",
      "source": [
        "tokenizer = get_tokenizer()\n",
        "tok = nlp.data.BERTSPTokenizer(tokenizer, vocab, lower=False)"
      ],
      "metadata": {
        "id": "DZ6vUqdlimZj"
      },
      "execution_count": null,
      "outputs": []
    },
    {
      "cell_type": "code",
      "source": [
        "#위의 클래스를 통해 데이터프레임에 있던 데이터를 토큰화해주기\n",
        "train_data = BERTdata(train_li, 0, 1, tok, max_len, True, False)\n",
        "test_data = BERTdata(test_li, 0, 1, tok, max_len, True, False)"
      ],
      "metadata": {
        "id": "gnv3EcKPiqRJ"
      },
      "execution_count": null,
      "outputs": []
    },
    {
      "cell_type": "code",
      "source": [
        "train_data[0]"
      ],
      "metadata": {
        "id": "dZe4b9Ep81Qq"
      },
      "execution_count": null,
      "outputs": []
    },
    {
      "cell_type": "code",
      "source": [
        "#torch형식의 데이터셋으로 만들어주어 koBERT에 학습시킬 수 있는 형태로 만들어주기\n",
        "\n",
        "train_dataloader = torch.utils.data.DataLoader(train_data, batch_size=batch_size, num_workers=5)\n",
        "test_dataloader = torch.utils.data.DataLoader(test_data, batch_size=batch_size, num_workers=5)"
      ],
      "metadata": {
        "id": "Tsm-tSXA89Om"
      },
      "execution_count": null,
      "outputs": []
    },
    {
      "cell_type": "markdown",
      "source": [
        "# 감정 분류 KoBERT 학습 모델 만들기"
      ],
      "metadata": {
        "id": "Qc1sooNo9UMU"
      }
    },
    {
      "cell_type": "code",
      "source": [
        ""
      ],
      "metadata": {
        "id": "Yi46gWJB9XoG"
      },
      "execution_count": null,
      "outputs": []
    },
    {
      "cell_type": "markdown",
      "source": [
        "# 추가사항\n",
        "\n",
        "- 1:다 채팅의 경우 이모티콘도 감정 표현이 될 것 같은데... 하트 등의 이모티콘을 행복으로 표현한다면 좀 더 정확한 측정이 가능하지 않을까?"
      ],
      "metadata": {
        "id": "al5wmwm9r5bX"
      }
    }
  ]
}